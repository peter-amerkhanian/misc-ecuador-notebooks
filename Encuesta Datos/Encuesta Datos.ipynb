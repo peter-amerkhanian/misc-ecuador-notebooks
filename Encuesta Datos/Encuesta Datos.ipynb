{
 "cells": [
  {
   "cell_type": "code",
   "execution_count": 1,
   "metadata": {},
   "outputs": [],
   "source": [
    "import pandas as pd\n",
    "import numpy as np\n",
    "import matplotlib.pyplot as plt\n",
    "import seaborn as sns"
   ]
  },
  {
   "cell_type": "markdown",
   "metadata": {},
   "source": [
    "# English and Language Attitudes Survey, IPP"
   ]
  },
  {
   "cell_type": "markdown",
   "metadata": {},
   "source": [
    "In the month of August I surveyed  roughly 85 students at the Ecuadorian high school where the Peace Corps assigned me. The survey was constructed to gain insight into the potential interest of students in an afterschool English club, and I also hoped to gain some knowledge about attitudes towards English and foreign language learning in general within the student population.\n",
    "I entered the data into an Excel spreadsheet, imported the sheet into python, and set out to:\n",
    "\n",
    "1) do some minor data cleaning (though the fact that this is data I manually entered minimizes this process)\n",
    "\n",
    "2) create a number of functions to run on the data that will be flexible enough to answer multiple questions and generate intelligence I can share with community stakeholders and the Peace Corps\n",
    "\n",
    "3) create visualizations (using the seaborn library) that I can utilize in presentations to stakeholders and Peace Corps\n"
   ]
  },
  {
   "cell_type": "markdown",
   "metadata": {},
   "source": [
    "# Opening up the sheet \n",
    "I'll just check out what things look like coming out of my spreadsheet. \n",
    "This looks good to me, but I'll follow up with cleaning out the NaN values and replacing them with '.' strings.\n",
    "The periods work as I will be running through these columns just to look for 'x's."
   ]
  },
  {
   "cell_type": "code",
   "execution_count": 2,
   "metadata": {},
   "outputs": [
    {
     "data": {
      "text/html": [
       "<div>\n",
       "<style scoped>\n",
       "    .dataframe tbody tr th:only-of-type {\n",
       "        vertical-align: middle;\n",
       "    }\n",
       "\n",
       "    .dataframe tbody tr th {\n",
       "        vertical-align: top;\n",
       "    }\n",
       "\n",
       "    .dataframe thead th {\n",
       "        text-align: right;\n",
       "    }\n",
       "</style>\n",
       "<table border=\"1\" class=\"dataframe\">\n",
       "  <thead>\n",
       "    <tr style=\"text-align: right;\">\n",
       "      <th></th>\n",
       "      <th>Q1</th>\n",
       "      <th>Q2</th>\n",
       "      <th>Q6</th>\n",
       "      <th>Q7</th>\n",
       "      <th>Q8</th>\n",
       "      <th>Q3</th>\n",
       "      <th>Italiano</th>\n",
       "      <th>Ingles</th>\n",
       "      <th>Porto</th>\n",
       "      <th>Catal</th>\n",
       "      <th>Fran</th>\n",
       "      <th>Chin</th>\n",
       "      <th>Japo</th>\n",
       "      <th>Corr</th>\n",
       "      <th>Otro</th>\n",
       "    </tr>\n",
       "    <tr>\n",
       "      <th>ID</th>\n",
       "      <th></th>\n",
       "      <th></th>\n",
       "      <th></th>\n",
       "      <th></th>\n",
       "      <th></th>\n",
       "      <th></th>\n",
       "      <th></th>\n",
       "      <th></th>\n",
       "      <th></th>\n",
       "      <th></th>\n",
       "      <th></th>\n",
       "      <th></th>\n",
       "      <th></th>\n",
       "      <th></th>\n",
       "      <th></th>\n",
       "    </tr>\n",
       "  </thead>\n",
       "  <tbody>\n",
       "    <tr>\n",
       "      <th>1</th>\n",
       "      <td>El Guabo</td>\n",
       "      <td>40-60</td>\n",
       "      <td>a veces</td>\n",
       "      <td>definitivamente</td>\n",
       "      <td>después de escuela</td>\n",
       "      <td>hago deberes</td>\n",
       "      <td>NaN</td>\n",
       "      <td>x</td>\n",
       "      <td>NaN</td>\n",
       "      <td>NaN</td>\n",
       "      <td>x</td>\n",
       "      <td>NaN</td>\n",
       "      <td>NaN</td>\n",
       "      <td>NaN</td>\n",
       "      <td>NaN</td>\n",
       "    </tr>\n",
       "    <tr>\n",
       "      <th>2</th>\n",
       "      <td>Machala</td>\n",
       "      <td>1-20</td>\n",
       "      <td>a veces</td>\n",
       "      <td>quizás</td>\n",
       "      <td>después de escuela</td>\n",
       "      <td>hago deberes</td>\n",
       "      <td>NaN</td>\n",
       "      <td>x</td>\n",
       "      <td>x</td>\n",
       "      <td>NaN</td>\n",
       "      <td>NaN</td>\n",
       "      <td>NaN</td>\n",
       "      <td>NaN</td>\n",
       "      <td>NaN</td>\n",
       "      <td>NaN</td>\n",
       "    </tr>\n",
       "    <tr>\n",
       "      <th>3</th>\n",
       "      <td>Machala</td>\n",
       "      <td>1-20</td>\n",
       "      <td>a veces</td>\n",
       "      <td>quizás</td>\n",
       "      <td>después de escuela</td>\n",
       "      <td>otro</td>\n",
       "      <td>NaN</td>\n",
       "      <td>NaN</td>\n",
       "      <td>NaN</td>\n",
       "      <td>NaN</td>\n",
       "      <td>NaN</td>\n",
       "      <td>NaN</td>\n",
       "      <td>NaN</td>\n",
       "      <td>NaN</td>\n",
       "      <td>x</td>\n",
       "    </tr>\n",
       "    <tr>\n",
       "      <th>4</th>\n",
       "      <td>Machala</td>\n",
       "      <td>1-20</td>\n",
       "      <td>mucho</td>\n",
       "      <td>probablemente</td>\n",
       "      <td>después de escuela</td>\n",
       "      <td>hago deberes</td>\n",
       "      <td>NaN</td>\n",
       "      <td>x</td>\n",
       "      <td>NaN</td>\n",
       "      <td>NaN</td>\n",
       "      <td>x</td>\n",
       "      <td>NaN</td>\n",
       "      <td>NaN</td>\n",
       "      <td>NaN</td>\n",
       "      <td>NaN</td>\n",
       "    </tr>\n",
       "    <tr>\n",
       "      <th>5</th>\n",
       "      <td>Puerto Bolívar</td>\n",
       "      <td>1-20</td>\n",
       "      <td>a veces</td>\n",
       "      <td>probablemente</td>\n",
       "      <td>después de escuela</td>\n",
       "      <td>hago deberes</td>\n",
       "      <td>NaN</td>\n",
       "      <td>x</td>\n",
       "      <td>NaN</td>\n",
       "      <td>NaN</td>\n",
       "      <td>x</td>\n",
       "      <td>NaN</td>\n",
       "      <td>NaN</td>\n",
       "      <td>NaN</td>\n",
       "      <td>NaN</td>\n",
       "    </tr>\n",
       "  </tbody>\n",
       "</table>\n",
       "</div>"
      ],
      "text/plain": [
       "                Q1     Q2       Q6               Q7                  Q8  \\\n",
       "ID                                                                        \n",
       "1         El Guabo  40-60  a veces  definitivamente  después de escuela   \n",
       "2          Machala   1-20  a veces           quizás  después de escuela   \n",
       "3          Machala   1-20  a veces           quizás  después de escuela   \n",
       "4          Machala   1-20    mucho    probablemente  después de escuela   \n",
       "5   Puerto Bolívar   1-20  a veces    probablemente  después de escuela   \n",
       "\n",
       "              Q3 Italiano Ingles Porto Catal Fran Chin Japo Corr Otro  \n",
       "ID                                                                     \n",
       "1   hago deberes      NaN      x   NaN   NaN    x  NaN  NaN  NaN  NaN  \n",
       "2   hago deberes      NaN      x     x   NaN  NaN  NaN  NaN  NaN  NaN  \n",
       "3           otro      NaN    NaN   NaN   NaN  NaN  NaN  NaN  NaN    x  \n",
       "4   hago deberes      NaN      x   NaN   NaN    x  NaN  NaN  NaN  NaN  \n",
       "5   hago deberes      NaN      x   NaN   NaN    x  NaN  NaN  NaN  NaN  "
      ]
     },
     "execution_count": 2,
     "metadata": {},
     "output_type": "execute_result"
    }
   ],
   "source": [
    "df = pd.read_csv('IPPSurvey8.15.csv', index_col=0)\n",
    "df.head()"
   ]
  },
  {
   "cell_type": "code",
   "execution_count": 3,
   "metadata": {},
   "outputs": [
    {
     "data": {
      "text/html": [
       "<div>\n",
       "<style scoped>\n",
       "    .dataframe tbody tr th:only-of-type {\n",
       "        vertical-align: middle;\n",
       "    }\n",
       "\n",
       "    .dataframe tbody tr th {\n",
       "        vertical-align: top;\n",
       "    }\n",
       "\n",
       "    .dataframe thead th {\n",
       "        text-align: right;\n",
       "    }\n",
       "</style>\n",
       "<table border=\"1\" class=\"dataframe\">\n",
       "  <thead>\n",
       "    <tr style=\"text-align: right;\">\n",
       "      <th></th>\n",
       "      <th>Q1</th>\n",
       "      <th>Q2</th>\n",
       "      <th>Q6</th>\n",
       "      <th>Q7</th>\n",
       "      <th>Q8</th>\n",
       "      <th>Q3</th>\n",
       "      <th>Italiano</th>\n",
       "      <th>Ingles</th>\n",
       "      <th>Porto</th>\n",
       "      <th>Catal</th>\n",
       "      <th>Fran</th>\n",
       "      <th>Chin</th>\n",
       "      <th>Japo</th>\n",
       "      <th>Corr</th>\n",
       "      <th>Otro</th>\n",
       "    </tr>\n",
       "    <tr>\n",
       "      <th>ID</th>\n",
       "      <th></th>\n",
       "      <th></th>\n",
       "      <th></th>\n",
       "      <th></th>\n",
       "      <th></th>\n",
       "      <th></th>\n",
       "      <th></th>\n",
       "      <th></th>\n",
       "      <th></th>\n",
       "      <th></th>\n",
       "      <th></th>\n",
       "      <th></th>\n",
       "      <th></th>\n",
       "      <th></th>\n",
       "      <th></th>\n",
       "    </tr>\n",
       "  </thead>\n",
       "  <tbody>\n",
       "    <tr>\n",
       "      <th>1</th>\n",
       "      <td>El Guabo</td>\n",
       "      <td>40-60</td>\n",
       "      <td>a veces</td>\n",
       "      <td>definitivamente</td>\n",
       "      <td>después de escuela</td>\n",
       "      <td>hago deberes</td>\n",
       "      <td>.</td>\n",
       "      <td>x</td>\n",
       "      <td>.</td>\n",
       "      <td>.</td>\n",
       "      <td>x</td>\n",
       "      <td>.</td>\n",
       "      <td>.</td>\n",
       "      <td>.</td>\n",
       "      <td>.</td>\n",
       "    </tr>\n",
       "    <tr>\n",
       "      <th>2</th>\n",
       "      <td>Machala</td>\n",
       "      <td>1-20</td>\n",
       "      <td>a veces</td>\n",
       "      <td>quizás</td>\n",
       "      <td>después de escuela</td>\n",
       "      <td>hago deberes</td>\n",
       "      <td>.</td>\n",
       "      <td>x</td>\n",
       "      <td>x</td>\n",
       "      <td>.</td>\n",
       "      <td>.</td>\n",
       "      <td>.</td>\n",
       "      <td>.</td>\n",
       "      <td>.</td>\n",
       "      <td>.</td>\n",
       "    </tr>\n",
       "    <tr>\n",
       "      <th>3</th>\n",
       "      <td>Machala</td>\n",
       "      <td>1-20</td>\n",
       "      <td>a veces</td>\n",
       "      <td>quizás</td>\n",
       "      <td>después de escuela</td>\n",
       "      <td>otro</td>\n",
       "      <td>.</td>\n",
       "      <td>.</td>\n",
       "      <td>.</td>\n",
       "      <td>.</td>\n",
       "      <td>.</td>\n",
       "      <td>.</td>\n",
       "      <td>.</td>\n",
       "      <td>.</td>\n",
       "      <td>x</td>\n",
       "    </tr>\n",
       "    <tr>\n",
       "      <th>4</th>\n",
       "      <td>Machala</td>\n",
       "      <td>1-20</td>\n",
       "      <td>mucho</td>\n",
       "      <td>probablemente</td>\n",
       "      <td>después de escuela</td>\n",
       "      <td>hago deberes</td>\n",
       "      <td>.</td>\n",
       "      <td>x</td>\n",
       "      <td>.</td>\n",
       "      <td>.</td>\n",
       "      <td>x</td>\n",
       "      <td>.</td>\n",
       "      <td>.</td>\n",
       "      <td>.</td>\n",
       "      <td>.</td>\n",
       "    </tr>\n",
       "    <tr>\n",
       "      <th>5</th>\n",
       "      <td>Puerto Bolívar</td>\n",
       "      <td>1-20</td>\n",
       "      <td>a veces</td>\n",
       "      <td>probablemente</td>\n",
       "      <td>después de escuela</td>\n",
       "      <td>hago deberes</td>\n",
       "      <td>.</td>\n",
       "      <td>x</td>\n",
       "      <td>.</td>\n",
       "      <td>.</td>\n",
       "      <td>x</td>\n",
       "      <td>.</td>\n",
       "      <td>.</td>\n",
       "      <td>.</td>\n",
       "      <td>.</td>\n",
       "    </tr>\n",
       "  </tbody>\n",
       "</table>\n",
       "</div>"
      ],
      "text/plain": [
       "                Q1     Q2       Q6               Q7                  Q8  \\\n",
       "ID                                                                        \n",
       "1         El Guabo  40-60  a veces  definitivamente  después de escuela   \n",
       "2          Machala   1-20  a veces           quizás  después de escuela   \n",
       "3          Machala   1-20  a veces           quizás  después de escuela   \n",
       "4          Machala   1-20    mucho    probablemente  después de escuela   \n",
       "5   Puerto Bolívar   1-20  a veces    probablemente  después de escuela   \n",
       "\n",
       "              Q3 Italiano Ingles Porto Catal Fran Chin Japo Corr Otro  \n",
       "ID                                                                     \n",
       "1   hago deberes        .      x     .     .    x    .    .    .    .  \n",
       "2   hago deberes        .      x     x     .    .    .    .    .    .  \n",
       "3           otro        .      .     .     .    .    .    .    .    x  \n",
       "4   hago deberes        .      x     .     .    x    .    .    .    .  \n",
       "5   hago deberes        .      x     .     .    x    .    .    .    .  "
      ]
     },
     "execution_count": 3,
     "metadata": {},
     "output_type": "execute_result"
    }
   ],
   "source": [
    "df.fillna('.', inplace=True)\n",
    "df.head()"
   ]
  },
  {
   "cell_type": "markdown",
   "metadata": {},
   "source": [
    "# Language Interest Functions\n",
    "Now I'll start creating a couple of functions to run parts of the data through and answer some questions. The first thing I want to look at is the students' interest in different languages. Foreign language instruction is already a hard subject to generate motivation for in high school students, and if other languages might be more relevant to their lives, this would increase the difficulty."
   ]
  },
  {
   "cell_type": "code",
   "execution_count": 4,
   "metadata": {},
   "outputs": [],
   "source": [
    "def single_language_interest(lang, integer=True):\n",
    "    \"\"\"lang: a string representing one language\n",
    "       integer: specifies whether to return a int-True or float-False\n",
    "       returns: the % of students\n",
    "       interested in the language\"\"\"\n",
    "    if integer: \n",
    "        return int(round((len([i for i in df[lang] if 'x' in i])/len(df[lang])), 2) * 100)\n",
    "    else:    \n",
    "        try: return round(len([i for i in df[lang] if 'x' in i])/len(df[lang]), 4) * 100\n",
    "        except KeyError: return 'not available language'"
   ]
  },
  {
   "cell_type": "markdown",
   "metadata": {},
   "source": [
    "I'll run the function on Italian first and generate a percentage of students interested in that language. My expectation is that a significant portion of students will be interested - this is based off of interviews I conducted with various students previous to my survey."
   ]
  },
  {
   "cell_type": "code",
   "execution_count": 5,
   "metadata": {},
   "outputs": [
    {
     "name": "stdout",
     "output_type": "stream",
     "text": [
      "24% of students are interested in Italian\n"
     ]
    }
   ],
   "source": [
    "print('{}% of students are interested in Italian'.format(single_language_interest('Italiano')))"
   ]
  },
  {
   "cell_type": "markdown",
   "metadata": {},
   "source": [
    "Here I will make essentially the same function, but I want it to look at student interest in at least one language provided in a group. This is going to be used for looking at how many students express interest in languages associated with a geographical area."
   ]
  },
  {
   "cell_type": "code",
   "execution_count": 6,
   "metadata": {},
   "outputs": [],
   "source": [
    "def language_group_interest(langs, integer=False):\n",
    "    \"\"\"langs: a list of laguages\n",
    "       integer: if True, will return an integer, else a float\n",
    "       returns: the % of students interested in at least one of the\n",
    "       languages given via langs\"\"\"\n",
    "    count = 0\n",
    "    for ind, row in df[langs].iterrows():\n",
    "        if 'x' in [i for i in row]:\n",
    "            count += 1\n",
    "    if integer:\n",
    "        return int(round(count/len(df[langs]), 2) * 100)\n",
    "    else:\n",
    "        return (round(count/len(df[langs]), 2))    \n",
    "\n",
    "\n",
    "# Now I'll make some language groups to examine...\n",
    "asian_langs = ['Chin', 'Japo', 'Corr']\n",
    "euro_langs = ['Italiano', 'Catal', 'Fran'] #not including portugese because that could also be Brazilian\n",
    "english = ['Ingles']"
   ]
  },
  {
   "cell_type": "markdown",
   "metadata": {},
   "source": [
    "# Plotting..\n",
    "Now I'll use the seaborn library to make a simple plot visualizing the interest in different language groups and how those compare to English."
   ]
  },
  {
   "cell_type": "code",
   "execution_count": 8,
   "metadata": {},
   "outputs": [
    {
     "data": {
      "image/png": "[encoded data removed]",
      "text/plain": [
       "<Figure size 720x576 with 1 Axes>"
      ]
     },
     "metadata": {},
     "output_type": "display_data"
    }
   ],
   "source": [
    "#Plot the language interest at a general level\n",
    "Y = [language_group_interest(euro_langs), language_group_interest(asian_langs), \n",
    "     language_group_interest(english)]\n",
    "X = ['Europa continental: \\n (italiano, francés, \\n catalán)', \n",
    "     'Asia continental: \\n (chino, japonés, \\n coreano) ',' Inglés ']\n",
    "ax = sns.barplot(X, Y, palette=sns.color_palette(\"Blues_r\"))\n",
    "\n",
    "plt.rcParams['figure.figsize'] = [10, 5]\n",
    "#Fine tune the plot\n",
    "sns.set(rc={'figure.figsize':(10,8)})\n",
    "plt.xticks(rotation=0, fontsize=13)\n",
    "plt.yticks()\n",
    "plt.ylim((0, 1))\n",
    "plt.title('Intereses lingüísticos de \\nlos estudiantes (no mutuamente excluyentes)', fontsize=15)\n",
    "\n",
    "#Annotate the heights onto each bar\n",
    "for i in ax.patches:\n",
    "    ax.annotate(str(int(round(i.get_height()*100))) + '% tiene interés',\n",
    "                (i.get_x() + .09, i.get_height() + .02), color='black')\n",
    "plt.savefig('english_interest.png', bbox_inches = \"tight\", dpi=100)"
   ]
  },
  {
   "cell_type": "markdown",
   "metadata": {},
   "source": [
    "Now, I want to make a different dataframe that I'll use later. This will represent only students who said they will 'definitely' want to attend an English club"
   ]
  },
  {
   "cell_type": "code",
   "execution_count": 9,
   "metadata": {},
   "outputs": [
    {
     "data": {
      "text/html": [
       "<div>\n",
       "<style scoped>\n",
       "    .dataframe tbody tr th:only-of-type {\n",
       "        vertical-align: middle;\n",
       "    }\n",
       "\n",
       "    .dataframe tbody tr th {\n",
       "        vertical-align: top;\n",
       "    }\n",
       "\n",
       "    .dataframe thead th {\n",
       "        text-align: right;\n",
       "    }\n",
       "</style>\n",
       "<table border=\"1\" class=\"dataframe\">\n",
       "  <thead>\n",
       "    <tr style=\"text-align: right;\">\n",
       "      <th></th>\n",
       "      <th>Q1</th>\n",
       "      <th>Q2</th>\n",
       "      <th>Q6</th>\n",
       "      <th>Q7</th>\n",
       "      <th>Q8</th>\n",
       "      <th>Q3</th>\n",
       "      <th>Italiano</th>\n",
       "      <th>Ingles</th>\n",
       "      <th>Porto</th>\n",
       "      <th>Catal</th>\n",
       "      <th>Fran</th>\n",
       "      <th>Chin</th>\n",
       "      <th>Japo</th>\n",
       "      <th>Corr</th>\n",
       "      <th>Otro</th>\n",
       "    </tr>\n",
       "    <tr>\n",
       "      <th>ID</th>\n",
       "      <th></th>\n",
       "      <th></th>\n",
       "      <th></th>\n",
       "      <th></th>\n",
       "      <th></th>\n",
       "      <th></th>\n",
       "      <th></th>\n",
       "      <th></th>\n",
       "      <th></th>\n",
       "      <th></th>\n",
       "      <th></th>\n",
       "      <th></th>\n",
       "      <th></th>\n",
       "      <th></th>\n",
       "      <th></th>\n",
       "    </tr>\n",
       "  </thead>\n",
       "  <tbody>\n",
       "    <tr>\n",
       "      <th>1</th>\n",
       "      <td>El Guabo</td>\n",
       "      <td>40-60</td>\n",
       "      <td>a veces</td>\n",
       "      <td>definitivamente</td>\n",
       "      <td>después de escuela</td>\n",
       "      <td>hago deberes</td>\n",
       "      <td>.</td>\n",
       "      <td>x</td>\n",
       "      <td>.</td>\n",
       "      <td>.</td>\n",
       "      <td>x</td>\n",
       "      <td>.</td>\n",
       "      <td>.</td>\n",
       "      <td>.</td>\n",
       "      <td>.</td>\n",
       "    </tr>\n",
       "    <tr>\n",
       "      <th>14</th>\n",
       "      <td>Puerto Bolívar</td>\n",
       "      <td>1-20</td>\n",
       "      <td>mucho</td>\n",
       "      <td>definitivamente</td>\n",
       "      <td>después de escuela</td>\n",
       "      <td>hago deberes</td>\n",
       "      <td>.</td>\n",
       "      <td>x</td>\n",
       "      <td>x</td>\n",
       "      <td>.</td>\n",
       "      <td>.</td>\n",
       "      <td>.</td>\n",
       "      <td>.</td>\n",
       "      <td>.</td>\n",
       "      <td>.</td>\n",
       "    </tr>\n",
       "    <tr>\n",
       "      <th>23</th>\n",
       "      <td>Machala</td>\n",
       "      <td>1-20</td>\n",
       "      <td>mucho</td>\n",
       "      <td>definitivamente</td>\n",
       "      <td>después de escuela</td>\n",
       "      <td>dormir</td>\n",
       "      <td>.</td>\n",
       "      <td>x</td>\n",
       "      <td>.</td>\n",
       "      <td>.</td>\n",
       "      <td>x</td>\n",
       "      <td>.</td>\n",
       "      <td>.</td>\n",
       "      <td>.</td>\n",
       "      <td>.</td>\n",
       "    </tr>\n",
       "    <tr>\n",
       "      <th>25</th>\n",
       "      <td>Machala</td>\n",
       "      <td>20-40</td>\n",
       "      <td>a veces</td>\n",
       "      <td>definitivamente</td>\n",
       "      <td>después de escuela</td>\n",
       "      <td>hago deberes, social</td>\n",
       "      <td>x</td>\n",
       "      <td>x</td>\n",
       "      <td>.</td>\n",
       "      <td>.</td>\n",
       "      <td>x</td>\n",
       "      <td>.</td>\n",
       "      <td>.</td>\n",
       "      <td>.</td>\n",
       "      <td>.</td>\n",
       "    </tr>\n",
       "    <tr>\n",
       "      <th>26</th>\n",
       "      <td>Machala</td>\n",
       "      <td>20-40</td>\n",
       "      <td>mucho</td>\n",
       "      <td>definitivamente</td>\n",
       "      <td>receso</td>\n",
       "      <td>hago deberes, hago deportes</td>\n",
       "      <td>x</td>\n",
       "      <td>x</td>\n",
       "      <td>.</td>\n",
       "      <td>.</td>\n",
       "      <td>.</td>\n",
       "      <td>.</td>\n",
       "      <td>.</td>\n",
       "      <td>.</td>\n",
       "      <td>.</td>\n",
       "    </tr>\n",
       "  </tbody>\n",
       "</table>\n",
       "</div>"
      ],
      "text/plain": [
       "                Q1     Q2       Q6               Q7                  Q8  \\\n",
       "ID                                                                        \n",
       "1         El Guabo  40-60  a veces  definitivamente  después de escuela   \n",
       "14  Puerto Bolívar   1-20    mucho  definitivamente  después de escuela   \n",
       "23         Machala   1-20    mucho  definitivamente  después de escuela   \n",
       "25         Machala  20-40  a veces  definitivamente  después de escuela   \n",
       "26         Machala  20-40    mucho  definitivamente              receso   \n",
       "\n",
       "                             Q3 Italiano Ingles Porto Catal Fran Chin Japo  \\\n",
       "ID                                                                           \n",
       "1                  hago deberes        .      x     .     .    x    .    .   \n",
       "14                 hago deberes        .      x     x     .    .    .    .   \n",
       "23                       dormir        .      x     .     .    x    .    .   \n",
       "25         hago deberes, social        x      x     .     .    x    .    .   \n",
       "26  hago deberes, hago deportes        x      x     .     .    .    .    .   \n",
       "\n",
       "   Corr Otro  \n",
       "ID            \n",
       "1     .    .  \n",
       "14    .    .  \n",
       "23    .    .  \n",
       "25    .    .  \n",
       "26    .    .  "
      ]
     },
     "execution_count": 9,
     "metadata": {},
     "output_type": "execute_result"
    }
   ],
   "source": [
    "#Making a dataframe of just the students who definitely want to be a part of the club\n",
    "definites = df[df.Q7 == 'definitivamente']\n",
    "definites.head()"
   ]
  },
  {
   "cell_type": "markdown",
   "metadata": {},
   "source": [
    "# Afterschool Activities\n",
    "Now, I'll throw together a function to look at what students are doing after school and whether they would be free to attend an English club, or if too many students have strict obligations after school, such as childcare or work."
   ]
  },
  {
   "cell_type": "code",
   "execution_count": 10,
   "metadata": {},
   "outputs": [],
   "source": [
    "def after_school(df, act):\n",
    "    \"\"\"df: specify a dataframe\n",
    "       act: an activity\n",
    "       returns: the percentage of students in\n",
    "       the data frame who partake in the given activity\"\"\"\n",
    "    return (round((len([i for i in df.Q3 if act in i])/len(df.Q3))*100, 2))"
   ]
  },
  {
   "cell_type": "code",
   "execution_count": 11,
   "metadata": {},
   "outputs": [
    {
     "name": "stdout",
     "output_type": "stream",
     "text": [
      "17.39% of definite club attendees usually have social obligations after school\n"
     ]
    }
   ],
   "source": [
    "print('{}% of definite club attendees usually have social obligations after school'\n",
    "      .format(after_school(definites, 'social')))"
   ]
  },
  {
   "cell_type": "markdown",
   "metadata": {},
   "source": [
    "I'm going to lay sonme groundwork to use that function to plot out what percentage of students are involved in a few different activities after school. One difficulty I'm facing is that students had the option of slecting multiple after school activities on the survey. For example, students in the table below usually selected more than one option:"
   ]
  },
  {
   "cell_type": "code",
   "execution_count": 12,
   "metadata": {},
   "outputs": [
    {
     "data": {
      "text/plain": [
       "ID\n",
       "82     hago deberes, hago deportes\n",
       "83                    hago deberes\n",
       "84    hago deberes, actividades ec\n",
       "85     hago deberes, hago deportes\n",
       "86                    hago deberes\n",
       "Name: Q3, dtype: object"
      ]
     },
     "execution_count": 12,
     "metadata": {},
     "output_type": "execute_result"
    }
   ],
   "source": [
    "df.Q3.tail()"
   ]
  },
  {
   "cell_type": "markdown",
   "metadata": {},
   "source": [
    "Therefore, I'll make a list of every activity by itself. Then I can use that list as the X files in a plot."
   ]
  },
  {
   "cell_type": "code",
   "execution_count": 13,
   "metadata": {},
   "outputs": [
    {
     "name": "stdout",
     "output_type": "stream",
     "text": [
      "Here, we can see that we are still stuck with duplicates:\n",
      " ['hago deberes', 'hago deberes', 'otro', 'hago deberes', 'hago deberes', 'hago deberes', 'cuidar familia', 'hago deberes', 'hago deberes', 'actividades ec'] \n",
      "\n",
      "We handled the duplicates, but I still have an \"otro\" category I would like to ditch:\n",
      " ['social', 'actividades ec', 'hago deportes', 'trabajo', 'hago deberes', 'cuidar familia', 'dormir', 'otro'] \n",
      "\n",
      "Here is what we are left with:\n",
      " ['social', 'actividades ec', 'hago deportes', 'trabajo', 'hago deberes', 'cuidar familia', 'dormir']\n"
     ]
    }
   ],
   "source": [
    "all_activities = []\n",
    "for i in df.Q3:\n",
    "    all_activities.extend(i.split(', '))\n",
    "\n",
    "print('Here, we can see that we are still stuck with duplicates:\\n', all_activities[:10], '\\n')\n",
    "activities = list(set(all_activities)) #get rid of dupes\n",
    "print('We handled the duplicates, but I still have an \"otro\" category I would like to ditch:\\n', activities, '\\n')\n",
    "activities.remove('otro') # get rid of other\n",
    "print('Here is what we are left with:\\n', activities)"
   ]
  },
  {
   "cell_type": "code",
   "execution_count": 14,
   "metadata": {},
   "outputs": [
    {
     "name": "stdout",
     "output_type": "stream",
     "text": [
      "Here are the percentages for each activity:\n",
      " [17.44, 8.14, 18.6, 6.98, 84.88, 3.49, 6.98] \n",
      "\n",
      "And here are the names of each activity:\n",
      " ['Social', 'Actividades\\nEc', 'Hago\\nDeportes', 'Trabajo', 'Hago\\nDeberes', 'Cuidar\\nFamilia', 'Dormir']\n"
     ]
    }
   ],
   "source": [
    "#Create the y values for my graph by using my after_school function\n",
    "act_percents = [after_school(df, i) for i in activities]\n",
    "#Get a list of the names for the x-axis, adding an indent if the activity is two words long\n",
    "names = [name.replace(' ', '\\n').title() if len(name.split()) == 2 else name.title() for name in activities]\n",
    "\n",
    "#Here's a test to see what data will go into my graph\n",
    "print('Here are the percentages for each activity:\\n', act_percents, '\\n\\nAnd here are the names of each activity:\\n', names)"
   ]
  },
  {
   "cell_type": "code",
   "execution_count": 16,
   "metadata": {},
   "outputs": [
    {
     "data": {
      "image/png": "[encoded data removed]",
      "text/plain": [
       "<Figure size 1008x432 with 1 Axes>"
      ]
     },
     "metadata": {},
     "output_type": "display_data"
    }
   ],
   "source": [
    "#Put the data into a barplot with seaborn\n",
    "ax = sns.barplot(names, act_percents, palette=sns.color_palette(\"GnBu_d\"))\n",
    "\n",
    "plt.rcParams['figure.figsize'] = [14, 6]\n",
    "#Finetune the plot and add my title\n",
    "plt.xticks(fontsize=12)\n",
    "plt.ylim((0, 100))\n",
    "plt.title('¿Qué hacen los estudiantes después\\n de la escuela? (no mutuamente excluyentes)', fontsize=15)\n",
    "\n",
    "#Annotate each of the bars in the chart\n",
    "for i in ax.patches:\n",
    "    ax.annotate(str(i.get_height()) + '%',(i.get_x() + .15, i.get_height() + .7), color='black', fontsize=13)\n",
    "\n",
    "plt.savefig('afterschool.png', bbox_inches = \"tight\", dpi=100)"
   ]
  },
  {
   "cell_type": "markdown",
   "metadata": {},
   "source": [
    "# Lastly,\n",
    "I'm just going to make one more function that will be flexible enough to look at answers from different questions and in different dataframes. I'll use this to get any more information I think I could potentially use in presentations or in reports."
   ]
  },
  {
   "cell_type": "code",
   "execution_count": 17,
   "metadata": {},
   "outputs": [],
   "source": [
    "def interest_track(dataframe_question, targets, integer=True):\n",
    "    \"\"\"dataframe_question: a dataframe object that specifies a question attribute\n",
    "       targets: a list of target answers\n",
    "       integer: if True, returns an int, else float with 4 digits\n",
    "       returns: the % of students\n",
    "       whose response included at least one of the target responses\"\"\"\n",
    "    count = 0\n",
    "    for i in dataframe_question:\n",
    "        for X in targets:\n",
    "            if X in i:\n",
    "                count += 1\n",
    "                break\n",
    "    if integer: \n",
    "        return int(round(count/len(dataframe_question), 2)*100)\n",
    "    return round(count/len(dataframe_question), 4)*100"
   ]
  },
  {
   "cell_type": "code",
   "execution_count": 18,
   "metadata": {},
   "outputs": [
    {
     "name": "stdout",
     "output_type": "stream",
     "text": [
      "10% of students are involved in work or childcare after school\n"
     ]
    }
   ],
   "source": [
    "#How many students are involved in work OR childcare?\n",
    "print('{}% of students are involved in work or childcare after school'\n",
    "     .format(interest_track(df.Q3, ['trabajo', 'cuidar'])))"
   ]
  },
  {
   "cell_type": "code",
   "execution_count": 19,
   "metadata": {},
   "outputs": [
    {
     "name": "stdout",
     "output_type": "stream",
     "text": [
      "Of students who are \"definitely\" interested in a club, 61% believe they will use English \"a lot\" after graduation\n",
      "\n",
      "Of students in general, 30% believe they will use English \"a lot\" after graduation\n"
     ]
    }
   ],
   "source": [
    "#How many students believe that they will use English 'a lot' after high school?\n",
    "#Do more of those students who are interested in an English club believe they will use English 'a lot'?\n",
    "print('Of students who are \"definitely\" interested in a club, {}% believe they will use English \"a lot\" after graduation\\n'\n",
    "      .format(interest_track(definites.Q6, ['mucho'])))\n",
    "print('Of students in general, {}% believe they will use English \"a lot\" after graduation'\n",
    "      .format(interest_track(df.Q6, ['mucho'])))"
   ]
  },
  {
   "cell_type": "code",
   "execution_count": 20,
   "metadata": {},
   "outputs": [
    {
     "name": "stdout",
     "output_type": "stream",
     "text": [
      "51% of students answered that they would \"probably\" or \"definitely\" be interested in attending an English club\n"
     ]
    }
   ],
   "source": [
    "#How many students are interested in the english club?\n",
    "print('{}% of students answered that they would \"probably\" or \"definitely\" be interested in attending an English club'\n",
    "      .format(interest_track(df.Q7, ['definitivamente', 'probablemente'])))"
   ]
  },
  {
   "cell_type": "code",
   "execution_count": 21,
   "metadata": {},
   "outputs": [
    {
     "name": "stdout",
     "output_type": "stream",
     "text": [
      "69% of students live within 20 minutes of school\n"
     ]
    }
   ],
   "source": [
    "#How many students live within 20 minutes of school?\n",
    "print('{}% of students live within 20 minutes of school'\n",
    "     .format(interest_track(df.Q2, ['1-20'])))"
   ]
  },
  {
   "cell_type": "code",
   "execution_count": 22,
   "metadata": {},
   "outputs": [
    {
     "name": "stdout",
     "output_type": "stream",
     "text": [
      "70% of students who are definitely interested in attending an English club live within 20 minutes of school\n"
     ]
    }
   ],
   "source": [
    "#Do students who are definitely interested in The English club live near the school?\n",
    "print('{}% of students who are definitely interested in attending an English club live within 20 minutes of school'\n",
    "     .format(interest_track(definites.Q2, ['1-20'])))"
   ]
  },
  {
   "cell_type": "code",
   "execution_count": 23,
   "metadata": {},
   "outputs": [
    {
     "name": "stdout",
     "output_type": "stream",
     "text": [
      "19% of students who are definitely interested in attending an English club and live within 20 minutes of school are essentially unoccupied after school\n"
     ]
    }
   ],
   "source": [
    "definites_close = definites[definites.Q2 == '1-20']\n",
    "\n",
    "optimum = interest_track(definites_close.Q3, \n",
    "               ['social', 'dormir'],\n",
    "               integer=True)\n",
    "print('{}% of students who are definitely interested in attending an English club and live within 20 minutes of school are essentially unoccupied after school'\n",
    "     .format(optimum))"
   ]
  }
 ],
 "metadata": {
  "kernelspec": {
   "display_name": "Python [conda env:Anaconda3]",
   "language": "python",
   "name": "conda-env-Anaconda3-py"
  },
  "language_info": {
   "codemirror_mode": {
    "name": "ipython",
    "version": 3
   },
   "file_extension": ".py",
   "mimetype": "text/x-python",
   "name": "python",
   "nbconvert_exporter": "python",
   "pygments_lexer": "ipython3",
   "version": "3.6.5"
  }
 },
 "nbformat": 4,
 "nbformat_minor": 2
}
